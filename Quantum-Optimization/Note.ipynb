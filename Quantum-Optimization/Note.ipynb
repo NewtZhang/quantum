{
 "cells": [
  {
   "cell_type": "markdown",
   "metadata": {},
   "source": [
    "## 2 The Tools of the Trade in Quantum Computing\n",
    "\n",
    "### Using Qiskit Terra to build quantum circuits\n",
    "\n",
    "we use packege **\"qiskit\"**\n",
    "\n",
    ">In Qiskit, circuits are represented as objects of the QuantumCircuit class\n",
    "\n",
    "For example, we can run **\"QuantumCircuit(n, m)\"**, which means we have n qubits and m classical bits (classical bits are used to store the results of measurements)\n",
    "\n",
    "Qubits and classical bits in Qiskit are grouped in quantum and classical registers. By default, when you create a circuit QuantumCircuit(n, m), Qiskit groups your qubits in a quantum register q and your bits in a classical register c.\n",
    "\n",
    "But we can also create our own registers:"
   ]
  },
  {
   "cell_type": "code",
   "execution_count": 34,
   "metadata": {},
   "outputs": [
    {
     "data": {
      "text/html": [
       "<pre style=\"word-wrap: normal;white-space: pre;background: #fff0;line-height: 1.1;font-family: &quot;Courier New&quot;,Courier,monospace\">             \n",
       "     qrg1_0: \n",
       "             \n",
       "     qrg1_1: \n",
       "             \n",
       "       qrg2: \n",
       "             \n",
       "oldschool: 1/\n",
       "             </pre>"
      ],
      "text/plain": [
       "             \n",
       "     qrg1_0: \n",
       "             \n",
       "     qrg1_1: \n",
       "             \n",
       "       qrg2: \n",
       "             \n",
       "oldschool: 1/\n",
       "             "
      ]
     },
     "execution_count": 34,
     "metadata": {},
     "output_type": "execute_result"
    }
   ],
   "source": [
    "from qiskit import *\n",
    "\n",
    "qreg1 = QuantumRegister(size = 2, name = \"qrg1\")\n",
    "qreg2 = QuantumRegister(1, \"qrg2\")\n",
    "creg = ClassicalRegister(1, \"oldschool\")\n",
    "\n",
    "qc = QuantumCircuit(qreg1, creg, qreg2)\n",
    "qc.draw()"
   ]
  },
  {
   "cell_type": "markdown",
   "metadata": {},
   "source": [
    "##### Quantum gates\n",
    "\n",
    "All the qubits will be initialized to a state $\\Ket{0}$\n",
    "\n",
    ">As is often the case in Python, quantum bits in a circuit are 0-indexed\n",
    "\n",
    "The following are the Qiskit methods for applying some of the most common one-qubit\n",
    "gates on a qubit q0:\n",
    "\n",
    "- **X, Y, Z** Pauli gates: x(q0), y(q0), z(q0)\n",
    "\n",
    "- **H** Hadamard gate: h(q0)\n",
    "\n",
    "- $R_X$, $R_Y$, $R_Z$ rotation gates: rx($\\theta$, q0), ry($\\theta$, q0), rz($\\theta$, q0)\n",
    "\n",
    "- $U(\\theta,\\phi,\\lambda)$ universal one-qubit gate: u($\\theta$,$\\phi$,$\\lambda$, q0)\n",
    "\n",
    "If q0 represents the control qubit and qt the target qubit, we could apply the following gates:\n",
    "\n",
    "- **CX, CY, CZ, CH** a controlled X,Y,X,H gate: cx(q0, qt), cy(q0, qt), cz(q0, qt), ch(q0, qt)\n",
    "\n",
    "- **CRX, CRY, CRZ** a controlled rotation gate: crx($\\theta$, q0, qt), cry($\\theta$, q0, qt), crz($\\theta$, q0, qt)\n"
   ]
  },
  {
   "cell_type": "code",
   "execution_count": 35,
   "metadata": {},
   "outputs": [
    {
     "data": {
      "image/png": "[encoded data removed]",
      "text/plain": [
       "<Figure size 370.906x200.667 with 1 Axes>"
      ]
     },
     "execution_count": 35,
     "metadata": {},
     "output_type": "execute_result"
    }
   ],
   "source": [
    "import numpy as np\n",
    "\n",
    "qc = QuantumCircuit(2) # Initialise the circuit.\n",
    "\n",
    "# We can now apply the gates sequentially.\n",
    "qc.x(0)\n",
    "qc.rx(np.pi/4, 1)\n",
    "qc.cx(0, 1)\n",
    "qc.u(np.pi/3, 0, np.pi, 0)\n",
    "\n",
    "qc.draw(\"mpl\")   "
   ]
  },
  {
   "cell_type": "code",
   "execution_count": 36,
   "metadata": {},
   "outputs": [
    {
     "data": {
      "image/png": "[encoded data removed]",
      "text/plain": [
       "<Figure size 370.906x200.667 with 1 Axes>"
      ]
     },
     "execution_count": 36,
     "metadata": {},
     "output_type": "execute_result"
    }
   ],
   "source": [
    "# Exercise 2.2\n",
    "import numpy as np\n",
    "\n",
    "qc = QuantumCircuit(2) \n",
    "\n",
    "qc.z(0)\n",
    "qc.y(1)\n",
    "qc.cry(np.pi*1/2,0,1)\n",
    "qc.u(np.pi/4, np.pi, 0, 0)\n",
    "qc.rz(np.pi/4, 1)\n",
    "\n",
    "qc.draw(\"mpl\")"
   ]
  },
  {
   "cell_type": "markdown",
   "metadata": {},
   "source": [
    "##### Measurements\n",
    "\n",
    "If we want to perform a measurement, we can do **measure(qbits, bits)** method, where qbits is the list of qubits to measure and bits is the list of bits where the result of the measurement will be stored, and it's obvious that the length of qbits and bits should be the same.\n",
    "\n",
    "If we just want to measure all the qubits and do not want to bother with creating a classical register of the appropriate size, we can just call the **measure_all** method. If ywe have already added classical bits, we can set the add_bits parameter to False to avoid adding more bits.\n",
    "\n"
   ]
  },
  {
   "cell_type": "markdown",
   "metadata": {},
   "source": [
    "#### Using Qiskit Aer to simulate quantum circuits\n",
    "\n",
    "If we want to use the Aer simulator, we need to import the Aer package from Qiskit, and once we have done the necessary imports, we can create an Aer simulator object in one of the following ways"
   ]
  },
  {
   "cell_type": "code",
   "execution_count": 37,
   "metadata": {},
   "outputs": [],
   "source": [
    "from qiskit.providers.aer import AerSimulator\n",
    "\n",
    "sim = AerSimulator()\n",
    "sim_GPU = AerSimulator(device=\"GPU\")"
   ]
  },
  {
   "cell_type": "markdown",
   "metadata": {},
   "source": [
    "If we want to measure a quantum state, we can do as follows:"
   ]
  },
  {
   "cell_type": "code",
   "execution_count": 50,
   "metadata": {},
   "outputs": [
    {
     "name": "stdout",
     "output_type": "stream",
     "text": [
      "{'01': 518, '00': 506}\n"
     ]
    }
   ],
   "source": [
    "qc = QuantumCircuit(2, 2)\n",
    "qc.h(0)\n",
    "qc.measure(range(2), range(2))\n",
    "\n",
    "job = execute(qc, sim, shots = 1024) # simulate the execution of nshots shots of a circuit qc\n",
    "result = job.result() # retrieve a result object\n",
    "counts = result.get_counts() # get the simulated frequency counts\n",
    "print(counts)\n"
   ]
  },
  {
   "cell_type": "markdown",
   "metadata": {},
   "source": [
    "It is better that we can represent the results by a histogram, which can be done by using the **plot_histogram** method from the qiskit.visualization package"
   ]
  },
  {
   "cell_type": "code",
   "execution_count": 51,
   "metadata": {},
   "outputs": [
    {
     "data": {
      "image/png": "[encoded data removed]",
      "text/plain": [
       "<Figure size 700x500 with 1 Axes>"
      ]
     },
     "execution_count": 51,
     "metadata": {},
     "output_type": "execute_result"
    }
   ],
   "source": [
    "from qiskit.visualization import *\n",
    "plot_histogram(counts)"
   ]
  },
  {
   "cell_type": "markdown",
   "metadata": {},
   "source": [
    "If we want to access the state vector at any point in a quantum circuit qc, all we have to do is called **qc.save_statevector()**"
   ]
  },
  {
   "cell_type": "code",
   "execution_count": 69,
   "metadata": {},
   "outputs": [
    {
     "name": "stdout",
     "output_type": "stream",
     "text": [
      "Statevector([0.70710678+0.j, 0.70710678+0.j, 0.        +0.j,\n",
      "             0.        +0.j],\n",
      "            dims=(2, 2))\n",
      "{'01': 518, '00': 506}\n"
     ]
    }
   ],
   "source": [
    "qc = QuantumCircuit(2, 2)\n",
    "qc.h(0)\n",
    "qc.save_statevector()\n",
    "qc.measure(0,0) # using two individual instructions\n",
    "qc.measure(1,1)\n",
    "\n",
    "result = execute(qc, sim, shots = 1024).result()\n",
    "sv = result.get_statevector()\n",
    "print(sv)\n",
    "counts = result.get_counts()\n",
    "print(counts)\n"
   ]
  },
  {
   "cell_type": "markdown",
   "metadata": {},
   "source": [
    "**At this point, we have temporarily stopped learning qiskit and entered the field of optimization problems.**"
   ]
  },
  {
   "cell_type": "markdown",
   "metadata": {},
   "source": [
    "## 3 Working with Quadratic Unconstrained Binary Optimization Problems\n",
    "\n",
    "Codeless content(end with chapter 3.2.2, page 97) is re-described in markdown files\n",
    "\n",
    "#### Computing expectation values with Qiskit\n",
    "\n",
    "we can first define one-qubit states |0⟩ and |1⟩ and compute their tensor products, one way is to directly use the amplitudes to initialize a Statevector object, code is as follows:"
   ]
  },
  {
   "cell_type": "code",
   "execution_count": 2,
   "metadata": {},
   "outputs": [
    {
     "name": "stdout",
     "output_type": "stream",
     "text": [
      "zero is Statevector([1.+0.j, 0.+0.j],\n",
      "            dims=(2,))\n",
      "one is Statevector([0.+0.j, 1.+0.j],\n",
      "            dims=(2,))\n"
     ]
    }
   ],
   "source": [
    "from qiskit.quantum_info import Statevector\n",
    "zero = Statevector([1,0])\n",
    "one = Statevector([0,1])\n",
    "print(\"zero is\", zero)\n",
    "print(\"one is\", one)"
   ]
  },
  {
   "cell_type": "markdown",
   "metadata": {},
   "source": [
    "The code above create $\\Ket{0}$ and $\\Ket{1}$.\n",
    "\n",
    "A more convenient way of achieving the same result is to initialize the Statevector object from an integer such as 0 or 1. We will use the **from_int** method and it is important to also use the dims parameter to indicate the size of the statevector. In general, we will have to set dims to $2^𝑛$, the code is as follows:\n"
   ]
  },
  {
   "cell_type": "code",
   "execution_count": 3,
   "metadata": {},
   "outputs": [
    {
     "name": "stdout",
     "output_type": "stream",
     "text": [
      "zero is Statevector([1.+0.j, 0.+0.j],\n",
      "            dims=(2,))\n",
      "one is Statevector([0.+0.j, 1.+0.j],\n",
      "            dims=(2,))\n"
     ]
    }
   ],
   "source": [
    "zero = Statevector.from_int(0, dims = 2)\n",
    "one = Statevector.from_int(1, dims = 2)\n",
    "print(\"zero is\",zero)\n",
    "print(\"one is\",one)"
   ]
  },
  {
   "cell_type": "markdown",
   "metadata": {},
   "source": [
    "In either case, we can now construct states with a higher number of qubits by computing tensor products with the tensor method, as shown in the following lines:"
   ]
  },
  {
   "cell_type": "code",
   "execution_count": 8,
   "metadata": {},
   "outputs": [
    {
     "name": "stdout",
     "output_type": "stream",
     "text": [
      "psi is Statevector([0.+0.j, 0.+0.j, 0.+0.j, 0.+0.j, 1.+0.j, 0.+0.j, 0.+0.j,\n",
      "             0.+0.j],\n",
      "            dims=(2, 2, 2))\n"
     ]
    },
    {
     "data": {
      "text/latex": [
       "$$ |100\\rangle$$"
      ],
      "text/plain": [
       "<IPython.core.display.Latex object>"
      ]
     },
     "execution_count": 8,
     "metadata": {},
     "output_type": "execute_result"
    }
   ],
   "source": [
    "psi = one.tensor(zero.tensor(zero))\n",
    "print(\"psi is\",psi)\n",
    "\n",
    "# The following lines show a more concise way of using tensor products \n",
    "# and a much more beautiful way of presenting states, \n",
    "# but they achieve exactly the same result as the code shown previously:\n",
    "psi = one^zero^zero\n",
    "psi.draw(\"latex\")\n",
    "\n",
    "# a more easy way: psi = Statevector.from_int(4, dims = 8)\n"
   ]
  },
  {
   "cell_type": "markdown",
   "metadata": {},
   "source": [
    "we can can simply multiply basis states by amplitudes and then add them together to create states that are in superposition\n",
    "\n",
    "it's worth mentioning that in python ^ has a lower precedence than +, so we need the parenthesis for the operations to be performed in the desired order."
   ]
  },
  {
   "cell_type": "code",
   "execution_count": 10,
   "metadata": {},
   "outputs": [
    {
     "data": {
      "text/latex": [
       "$$\\frac{\\sqrt{2}}{2} |000\\rangle+\\frac{\\sqrt{2}}{2} |111\\rangle$$"
      ],
      "text/plain": [
       "<IPython.core.display.Latex object>"
      ]
     },
     "execution_count": 10,
     "metadata": {},
     "output_type": "execute_result"
    }
   ],
   "source": [
    "from numpy import sqrt\n",
    "ghz = 1/sqrt(2)*(zero^zero^zero) + 1/sqrt(2)*(one^one^one)\n",
    "ghz.draw(\"latex\")"
   ]
  },
  {
   "cell_type": "markdown",
   "metadata": {},
   "source": [
    "For now, we will learn how to work with tensor products of 𝑍 gates.\n",
    "\n",
    "The first method is to use a string to specify the positions of 𝑍 and 𝐼 matrices in the product. For instance, if we are working with three qubits and we want to create $𝑍_0𝑍_1$ (which is, as you surely remember, the tensor product 𝑍 ⊗ 𝑍 ⊗ 𝐼), we can use the following instructions:"
   ]
  },
  {
   "cell_type": "code",
   "execution_count": 11,
   "metadata": {},
   "outputs": [
    {
     "name": "stdout",
     "output_type": "stream",
     "text": [
      "Z0Z1 is ZZI\n",
      "And its matrix is\n",
      "[[ 1.+0.j  0.+0.j  0.+0.j  0.+0.j  0.+0.j  0.+0.j  0.+0.j  0.+0.j]\n",
      " [ 0.+0.j  1.+0.j  0.+0.j  0.+0.j  0.+0.j  0.+0.j  0.+0.j  0.+0.j]\n",
      " [ 0.+0.j  0.+0.j -1.+0.j  0.+0.j  0.+0.j  0.+0.j  0.+0.j  0.+0.j]\n",
      " [ 0.+0.j  0.+0.j  0.+0.j -1.+0.j  0.+0.j  0.+0.j  0.+0.j  0.+0.j]\n",
      " [ 0.+0.j  0.+0.j  0.+0.j  0.+0.j -1.+0.j  0.+0.j  0.+0.j  0.+0.j]\n",
      " [ 0.+0.j  0.+0.j  0.+0.j  0.+0.j  0.+0.j -1.+0.j  0.+0.j  0.+0.j]\n",
      " [ 0.+0.j  0.+0.j  0.+0.j  0.+0.j  0.+0.j  0.+0.j  1.+0.j  0.+0.j]\n",
      " [ 0.+0.j  0.+0.j  0.+0.j  0.+0.j  0.+0.j  0.+0.j  0.+0.j  1.+0.j]]\n"
     ]
    }
   ],
   "source": [
    "from qiskit.quantum_info import Pauli\n",
    "Z0Z1 = Pauli(\"ZZI\")\n",
    "print(\"Z0Z1 is\",Z0Z1)\n",
    "print(\"And its matrix is\")\n",
    "print(Z0Z1.to_matrix())"
   ]
  },
  {
   "cell_type": "markdown",
   "metadata": {},
   "source": [
    "The matrix representing 𝑍0𝑍1 is of size 8 × 8 and, as you can see, it can be hard to read.\n",
    "\n",
    "Fortunately, we can use the fact that tensor products of diagonal matrices are always diagonal, and print only the non-zero coefficients with the following instructions:"
   ]
  },
  {
   "cell_type": "code",
   "execution_count": 12,
   "metadata": {},
   "outputs": [
    {
     "name": "stdout",
     "output_type": "stream",
     "text": [
      "The sparse representation of Z0Z1 is\n",
      "  (0, 0)\t(1+0j)\n",
      "  (1, 1)\t(1+0j)\n",
      "  (2, 2)\t(-1+0j)\n",
      "  (3, 3)\t(-1+0j)\n",
      "  (4, 4)\t(-1+0j)\n",
      "  (5, 5)\t(-1+0j)\n",
      "  (6, 6)\t(1+0j)\n",
      "  (7, 7)\t(1+0j)\n"
     ]
    }
   ],
   "source": [
    "print(\"The sparse representation of Z0Z1 is\")\n",
    "print(Z0Z1.to_matrix(sparse=True))"
   ]
  },
  {
   "cell_type": "markdown",
   "metadata": {},
   "source": [
    "The main drawback of working with Pauli objects is that we cannot add them or multiply them by scalars. To get something like 𝑍0𝑍1 + 𝑍1𝑍2, we need first to convert the Pauli objects to PauliOp, which we can then add together as shown in the following code:"
   ]
  },
  {
   "cell_type": "code",
   "execution_count": 15,
   "metadata": {},
   "outputs": [
    {
     "name": "stdout",
     "output_type": "stream",
     "text": [
      "H_cut is\n",
      "1.0 * ZZI\n",
      "+ 1.0 * ZIZ\n",
      "The sparse representation of H_cut is\n",
      "  (0, 0)\t(2+0j)\n",
      "  (3, 3)\t(-2+0j)\n",
      "  (4, 4)\t(-2+0j)\n",
      "  (7, 7)\t(2+0j)\n",
      "H_cut is: \n",
      "1.0 * ZZI\n",
      "+ 1.0 * ZIZ\n"
     ]
    },
    {
     "name": "stderr",
     "output_type": "stream",
     "text": [
      "C:\\Users\\Newt\\AppData\\Local\\Temp\\ipykernel_26652\\27197005.py:2: DeprecationWarning: The class ``qiskit.opflow.primitive_ops.pauli_op.PauliOp`` is deprecated as of qiskit-terra 0.24.0. It will be removed no earlier than 3 months after the release date. For code migration guidelines, visit https://qisk.it/opflow_migration.\n",
      "  H_cut = PauliOp(Pauli(\"ZZI\")) + PauliOp(Pauli(\"ZIZ\"))\n"
     ]
    }
   ],
   "source": [
    "from qiskit.opflow.primitive_ops import PauliOp\n",
    "H_cut = PauliOp(Pauli(\"ZZI\")) + PauliOp(Pauli(\"ZIZ\"))\n",
    "print(\"H_cut is\")\n",
    "print(H_cut)\n",
    "print(\"The sparse representation of H_cut is\")\n",
    "print(H_cut.to_spmatrix())\n",
    "\n",
    "# A more compact way of obtaining the same Hamiltonian is:\n",
    "from qiskit.opflow import I, Z\n",
    "H_cut = (Z^Z^I) + (Z^I^Z)\n",
    "print(\"H_cut is: \")\n",
    "print(H_cut)"
   ]
  },
  {
   "cell_type": "markdown",
   "metadata": {},
   "source": [
    "Now we are ready to compute expectation values. Thanks to the code that we have written and executed so far, psi stores |100⟩ and H_cut stores 𝑍0𝑍1 + 𝑍1𝑍2:"
   ]
  },
  {
   "cell_type": "code",
   "execution_count": 16,
   "metadata": {},
   "outputs": [
    {
     "name": "stdout",
     "output_type": "stream",
     "text": [
      "The expectation value is (-2+0j)\n"
     ]
    }
   ],
   "source": [
    "print(\"The expectation value is\", psi.expectation_value(H_cut))"
   ]
  },
  {
   "cell_type": "code",
   "execution_count": 3,
   "metadata": {},
   "outputs": [
    {
     "name": "stdout",
     "output_type": "stream",
     "text": [
      "The expectation value of | 0 > is (2+0j)\n",
      "The expectation value of | 1 > is 0j\n",
      "The expectation value of | 2 > is 0j\n",
      "The expectation value of | 3 > is (-2+0j)\n",
      "The expectation value of | 4 > is (-2+0j)\n",
      "The expectation value of | 5 > is 0j\n",
      "The expectation value of | 6 > is 0j\n",
      "The expectation value of | 7 > is (2+0j)\n"
     ]
    }
   ],
   "source": [
    "# Exercise 3.4\n",
    "# Write code to compute the expectation value of all the possible cuts of the graph in Figure 3.5. How many optimal solutions are there?\n",
    "\n",
    "from qiskit.quantum_info import Pauli\n",
    "from qiskit.opflow.primitive_ops import PauliOp\n",
    "from qiskit.quantum_info import Statevector\n",
    "from qiskit.opflow import I, Z\n",
    "H_cut = (Z^Z^I) + (Z^I^Z)\n",
    "for x in range(8): # We consider x=0,1...7\n",
    "    psi = Statevector.from_int(x, dims = 8)\n",
    "    print(\"The expectation value of |\",x,\">\", \"is\",\n",
    "    psi.expectation_value(H_cut))"
   ]
  },
  {
   "cell_type": "markdown",
   "metadata": {},
   "source": [
    "we can evaluate expressions step by step, as shown in the following code, the evolve method is used to compute the matrix-vector multiplication, and inner\n",
    "is, obviously, used for the inner product"
   ]
  },
  {
   "cell_type": "code",
   "execution_count": 6,
   "metadata": {},
   "outputs": [
    {
     "name": "stdout",
     "output_type": "stream",
     "text": [
      "The expectation value is (2+0j)\n"
     ]
    }
   ],
   "source": [
    "print(\"The expectation value is\", psi.inner(psi.evolve(H_cut)))"
   ]
  },
  {
   "cell_type": "markdown",
   "metadata": {},
   "source": [
    "Codeless content(start with chapter 3.3, page 140) is re-described in markdown files\n",
    "\n",
    "the contend with code restarts here from chapter 4.2, page 167.\n",
    "\n",
    "### 4.2 Quantum annealing\n",
    "\n",
    "let's try to solve the MaxCut problem, we can pose it as finding the ground state of $Z_0Z_1 + Z_0Z_2$, which is an Ising Hamiltonian with $J_{01} = J_{02} = 1$. We can use the following code to create the Hamiltonian:\n"
   ]
  },
  {
   "cell_type": "code",
   "execution_count": 2,
   "metadata": {},
   "outputs": [
    {
     "name": "stdout",
     "output_type": "stream",
     "text": [
      "The problem we are going to solve is:\n",
      "BinaryQuadraticModel({0: 0.0, 1: 0.0, 2: 0.0}, {(1, 0): 1.0, (2, 0): 1.0}, 0.0, 'SPIN')\n"
     ]
    }
   ],
   "source": [
    "import dimod\n",
    "J = {(0,1):1, (0,2):1}\n",
    "h = {}\n",
    "problem = dimod.BinaryQuadraticModel(h, J, 0.0, dimod.SPIN)\n",
    "print(\"The problem we are going to solve is:\")\n",
    "print(problem)"
   ]
  },
  {
   "cell_type": "markdown",
   "metadata": {},
   "source": [
    "There are a couple of things to notice here. First, we have used J for the coefficients of the degree 2 terms — (0,1):1 sets the 𝐽01 coefficient to 1 and (0,2):1 sets 𝐽02 = 1 — and h for the linear ones. Those coefficients that we do not specify are automatically set to 0 by the BinaryQuadraticModel constructor, but we still need to pass both the J and the h parameters (even in our case, where the latter is empty). Notice that in the output we get (1, 0): 1.0, (2, 0): 1.0, which seems to be the reverse of what we used. But they are exactly the same, because 𝑍0𝑍1 = 𝑍1𝑍0 and, thus, the situation is symmetrical. Second, we have used 0.0 as the value for the offset, which is a constant term that can be added to the Hamiltonian. Finally, we have used the dimod.SPIN parameter because we are working with an Ising Hamiltonian and, thus, the values of our variables are 1 and −1. In just a minute, we will see how to use binary variables instead. But, before that, let’s use the following code to run the annealing process on one of the quantum annealers:"
   ]
  },
  {
   "cell_type": "code",
   "execution_count": 13,
   "metadata": {},
   "outputs": [
    {
     "name": "stdout",
     "output_type": "stream",
     "text": [
      "The solutions that we have obtained are\n",
      "   0  1  2 energy num_oc. chain_.\n",
      "0 -1 +1 +1   -2.0       5     0.0\n",
      "1 +1 -1 -1   -2.0       5     0.0\n",
      "['SPIN', 2 rows, 10 samples, 3 variables]\n"
     ]
    }
   ],
   "source": [
    "from dwave.system import DWaveSampler\n",
    "from dwave.system import EmbeddingComposite\n",
    "sampler = EmbeddingComposite(DWaveSampler())\n",
    "result = sampler.sample(problem, num_reads=10)\n",
    "print(\"The solutions that we have obtained are\")\n",
    "print(result)"
   ]
  },
  {
   "cell_type": "code",
   "execution_count": 4,
   "metadata": {},
   "outputs": [
    {
     "data": {
      "text/plain": [
       "16521.77"
      ]
     },
     "execution_count": 4,
     "metadata": {},
     "output_type": "execute_result"
    }
   ],
   "source": [
    "result.info['timing']['qpu_access_time']"
   ]
  },
  {
   "cell_type": "markdown",
   "metadata": {},
   "source": [
    "For binary linear programming problems, we don't need to perform all the boring transformations, but dimod provides the ConstrainedQuadraticModel class, which simplifies the process of working with problems that involve linear constraints.\n",
    "In order to instantiate our binary linear program as a ConstrainedQuadraticModel object, the first thing that we need to do is to define the variables that we want to use and their types. Consume that we have three binary variables that we can define with the following piece of code:"
   ]
  },
  {
   "cell_type": "code",
   "execution_count": 3,
   "metadata": {},
   "outputs": [],
   "source": [
    "x0 = dimod.Binary(\"x0\")\n",
    "x1 = dimod.Binary(\"x1\")\n",
    "x2 = dimod.Binary(\"x2\")"
   ]
  },
  {
   "cell_type": "markdown",
   "metadata": {},
   "source": [
    "Now, we are going to define a ConstrainedQuadraticModel object and we are going to set the objective (the function that we seek to minimize) and also fix the constraints of the problem. The code is as follows:"
   ]
  },
  {
   "cell_type": "code",
   "execution_count": 5,
   "metadata": {},
   "outputs": [
    {
     "name": "stdout",
     "output_type": "stream",
     "text": [
      "Our variables are:\n",
      "Variables(['x0', 'x1', 'x2'])\n",
      "Our objective is:\n",
      "ObjectiveView({'x0': -5.0, 'x1': 3.0, 'x2': -2.0}, {}, 0.0, {'x0': 'BINARY', 'x1': 'BINARY', 'x2': 'BINARY'})\n",
      "Our constraints are:\n",
      "{'First constraint': Le(ConstraintView({'x0': 1.0, 'x2': 1.0}, {}, 0.0, {'x0': 'BINARY', 'x2': 'BINARY'}), 1.0), 'Second constraint': Le(ConstraintView({'x0': 3.0, 'x1': -1.0, 'x2': 3.0}, {}, 0.0, {'x0': 'BINARY', 'x1': 'BINARY', 'x2': 'BINARY'}), 4.0)}\n"
     ]
    }
   ],
   "source": [
    "blp = dimod.ConstrainedQuadraticModel()\n",
    "blp.set_objective(-5*x0 + 3*x1 - 2*x2)\n",
    "blp.add_constraint(x0 + x2 <= 1, \"First constraint\")\n",
    "blp.add_constraint(3*x0 -x1 + 3*x2 <= 4, \"Second constraint\")\n",
    "\n",
    "# wae can inspect the elements of blp by accessing its variables, objective, and constraints attributes\n",
    "print(\"Our variables are:\")\n",
    "print(blp.variables)\n",
    "print(\"Our objective is:\")\n",
    "print(blp.objective)\n",
    "print(\"Our constraints are:\")\n",
    "print(blp.constraints)"
   ]
  },
  {
   "cell_type": "markdown",
   "metadata": {},
   "source": [
    "Notice that both the objective and the constraints are internally represented as quadratic functions and, therefore, they formally have quadratic terms, linear terms, and an offset or independent term. In our case, only the linear part of the constraints is non-empty, and the offset is 0 in both cases."
   ]
  },
  {
   "cell_type": "code",
   "execution_count": 6,
   "metadata": {},
   "outputs": [
    {
     "name": "stdout",
     "output_type": "stream",
     "text": [
      "The assignment is {'x0': 1, 'x1': 1, 'x2': 1}\n",
      "Its cost is -4.0\n",
      "Is it feasible? False\n",
      "The violations of the constraints are\n",
      "{'First constraint': 1.0, 'Second constraint': 1.0}\n"
     ]
    }
   ],
   "source": [
    "# compute the problem above:\n",
    "sample1 = {\"x0\":1, \"x1\":1, \"x2\":1}\n",
    "print(\"The assignment is\", sample1)\n",
    "print(\"Its cost is\", blp.objective.energy(sample1))\n",
    "print(\"Is it feasible?\",blp.check_feasible(sample1))\n",
    "print(\"The violations of the constraints are\")\n",
    "print(blp.violations(sample1))"
   ]
  },
  {
   "cell_type": "markdown",
   "metadata": {},
   "source": [
    "This tells us that the assignment is not feasible, and the violations method gives us the amount by which the left-hand side of each inequality is bigger than the right-hand side.\n",
    "\n",
    "we can try another assignment, such as x0 = 0, x1 = 0, x2 = 1"
   ]
  },
  {
   "cell_type": "code",
   "execution_count": 7,
   "metadata": {},
   "outputs": [
    {
     "name": "stdout",
     "output_type": "stream",
     "text": [
      "The assignment is {'x0': 0, 'x1': 0, 'x2': 1}\n",
      "Its cost is -2.0\n",
      "Is it feasible? True\n",
      "The violations of the constraints are\n",
      "{'First constraint': 0.0, 'Second constraint': -1.0}\n"
     ]
    }
   ],
   "source": [
    "sample2 = {\"x0\":0, \"x1\":0, \"x2\":1}\n",
    "print(\"The assignment is\", sample2)\n",
    "print(\"Its cost is\", blp.objective.energy(sample2))\n",
    "print(\"Is it feasible?\",blp.check_feasible(sample2))\n",
    "print(\"The violations of the constraints are\")\n",
    "print(blp.violations(sample2))"
   ]
  },
  {
   "cell_type": "markdown",
   "metadata": {},
   "source": [
    "The dimod package also provides a brute-force solver that tries all possible assignments and sorts them according to their cost, from lowest to highest."
   ]
  },
  {
   "cell_type": "code",
   "execution_count": 9,
   "metadata": {},
   "outputs": [
    {
     "name": "stdout",
     "output_type": "stream",
     "text": [
      "The list of assignments is\n",
      "  x0 x1 x2 energy num_oc. is_sat. is_fea.\n",
      "6  1  0  1   -7.0       1 arra...   False\n",
      "2  1  0  0   -5.0       1 arra...    True\n",
      "7  1  1  1   -4.0       1 arra...   False\n",
      "3  1  1  0   -2.0       1 arra...    True\n",
      "4  0  0  1   -2.0       1 arra...    True\n",
      "0  0  0  0    0.0       1 arra...    True\n",
      "5  0  1  1    1.0       1 arra...    True\n",
      "1  0  1  0    3.0       1 arra...    True\n",
      "['INTEGER', 8 rows, 8 samples, 3 variables]\n"
     ]
    },
    {
     "data": {
      "text/plain": [
       "Sample(sample={'x0': 1, 'x1': 0, 'x2': 1}, energy=-7.0, num_occurrences=1, is_satisfied=array([False, False]), is_feasible=False)"
      ]
     },
     "execution_count": 9,
     "metadata": {},
     "output_type": "execute_result"
    }
   ],
   "source": [
    "solver = dimod.ExactCQMSolver()\n",
    "solution = solver.sample_cqm(blp)\n",
    "print(\"The list of assignments is\")\n",
    "print(solution)\n",
    "\n",
    "solution.first"
   ]
  },
  {
   "cell_type": "markdown",
   "metadata": {},
   "source": [
    "The first number is just an identifier of the assignment. It is followed by the values given to the variables. Then, we find the cost of the assignment — or, rather, its energy, if interpreted in terms of the Hamiltonian. After that, comes the times this solution has been found, which will always be 1 with this solver. Finally, we find information about which constraints are satisfied and whether the solution is feasible or not. It is very important to notice that the assignments are ordered by cost, but some of them may be unfeasible, even the first one, as in this case."
   ]
  },
  {
   "cell_type": "markdown",
   "metadata": {},
   "source": [
    "If we want the optimal solution to the problem, you should always remove the unfeasible solutions first with the filter method, then if we access feasible_sols.first, you will get:"
   ]
  },
  {
   "cell_type": "code",
   "execution_count": 10,
   "metadata": {},
   "outputs": [
    {
     "data": {
      "text/plain": [
       "Sample(sample={'x0': 1, 'x1': 0, 'x2': 0}, energy=-5.0, num_occurrences=1, is_satisfied=array([ True,  True]), is_feasible=True)"
      ]
     },
     "execution_count": 10,
     "metadata": {},
     "output_type": "execute_result"
    }
   ],
   "source": [
    "feasible_sols = solution.filter(lambda s: s.is_feasible)\n",
    "feasible_sols.first"
   ]
  },
  {
   "cell_type": "markdown",
   "metadata": {},
   "source": [
    "As useful as the ConstrainedQuadraticModel class is, we cannot use it to define problems that can be run on quantum annealers. In order to do that, we first need to eliminate the constraints and create a BinaryQuadraticModel object that we can later execute on actual quantum hardware. The code is as follows:"
   ]
  },
  {
   "cell_type": "code",
   "execution_count": 11,
   "metadata": {},
   "outputs": [
    {
     "name": "stdout",
     "output_type": "stream",
     "text": [
      "BinaryQuadraticModel({'y0': -17.0, 'y1': -23.0, 'slack_vc7c95d7fb2f24eec9e85d1cdcd70062f_0': -15.0, 'slack_vc7c95d7fb2f24eec9e85d1cdcd70062f_1': -15.0}, {('y1', 'y0'): 20.0, ('slack_vc7c95d7fb2f24eec9e85d1cdcd70062f_0', 'y0'): 10.0, ('slack_vc7c95d7fb2f24eec9e85d1cdcd70062f_0', 'y1'): 20.0, ('slack_vc7c95d7fb2f24eec9e85d1cdcd70062f_1', 'y0'): 10.0, ('slack_vc7c95d7fb2f24eec9e85d1cdcd70062f_1', 'y1'): 20.0, ('slack_vc7c95d7fb2f24eec9e85d1cdcd70062f_1', 'slack_vc7c95d7fb2f24eec9e85d1cdcd70062f_0'): 10.0}, 20.0, 'BINARY')\n"
     ]
    }
   ],
   "source": [
    "y0, y1 = dimod.Binaries([\"y0\", \"y1\"])\n",
    "cqm = dimod.ConstrainedQuadraticModel()\n",
    "cqm.set_objective(-2*y0-3*y1)\n",
    "cqm.add_constraint(y0 + 2*y1 <= 2)\n",
    "\n",
    "#We can transform this constrained problem into an unconstrained one by using the cqm_to_bqm method as follows:\n",
    "qubo, invert = dimod.cqm_to_bqm(cqm, lagrange_multiplier = 5)\n",
    "print(qubo)"
   ]
  },
  {
   "cell_type": "markdown",
   "metadata": {},
   "source": [
    "We can now use a quantum annealer to solve the problem defined in the qubo object:"
   ]
  },
  {
   "cell_type": "code",
   "execution_count": 14,
   "metadata": {},
   "outputs": [
    {
     "name": "stdout",
     "output_type": "stream",
     "text": [
      "The solutions that we have obtained are\n",
      "  slack_vc7c95d7fb2f24eec9e85d1cdcd70062f_0 ... y1 energy num_oc. chain_.\n",
      "0                                         0 ...  1   -3.0       3     0.0\n",
      "1                                         0 ...  0   -2.0       2     0.0\n",
      "2                                         1 ...  0   -2.0       3     0.0\n",
      "3                                         0 ...  1    0.0       1     0.0\n",
      "4                                         1 ...  0    0.0       1     0.0\n",
      "['BINARY', 5 rows, 10 samples, 4 variables]\n"
     ]
    }
   ],
   "source": [
    "sampler = EmbeddingComposite(DWaveSampler())\n",
    "result = sampler.sample(qubo, num_reads=10)\n",
    "print(\"The solutions that we have obtained are\")\n",
    "print(result)"
   ]
  },
  {
   "cell_type": "markdown",
   "metadata": {},
   "source": [
    "the invert object allows us to retrieve the solutions to the original problem from the solutions to the transformed one. Thus, we can run the following instructions:"
   ]
  },
  {
   "cell_type": "code",
   "execution_count": 16,
   "metadata": {},
   "outputs": [
    {
     "name": "stdout",
     "output_type": "stream",
     "text": [
      "The solutions to the original problem are\n",
      "  y0 y1 energy num_oc. is_sat. is_fea.\n",
      "3  1  1   -5.0       1 arra...   False\n",
      "0  0  1   -3.0       3 arra...    True\n",
      "1  1  0   -2.0       2 arra...    True\n",
      "2  1  0   -2.0       3 arra...    True\n",
      "4  0  0    0.0       1 arra...    True\n",
      "['INTEGER', 5 rows, 10 samples, 2 variables]\n"
     ]
    }
   ],
   "source": [
    "samples = []\n",
    "occurrences = []\n",
    "for s in result.data():\n",
    "    samples.append(invert(s.sample))\n",
    "    occurrences.append(s.num_occurrences)\n",
    "sampleset = dimod.SampleSet.from_samples_cqm(samples,cqm,num_occurrences=occurrences)\n",
    "print(\"The solutions to the original problem are\")\n",
    "print(sampleset)"
   ]
  },
  {
   "cell_type": "markdown",
   "metadata": {},
   "source": [
    "There are a couple of details that we still need to fix. \n",
    "\n",
    "The first one is that if we want to only retain the feasible solutions, we need to use the **filter** method as we did in the previous subsection when using ExactCMQSolver. The second has to do with the repetition — which we can observe in the last two outputs — of the solution that sets 𝑦0 = 1 and 𝑦0 = 0. These two solutions come from two different assignments in the transformed problem, but they only differed in the values given to the slack variables. So, when those slack variables are eliminated, they produce exactly the same assignment. If we want them to be considered together, as they should be, we can use the aggregate method. Putting it all together, we can execute this code:"
   ]
  },
  {
   "cell_type": "code",
   "execution_count": 17,
   "metadata": {},
   "outputs": [
    {
     "name": "stdout",
     "output_type": "stream",
     "text": [
      "The final solutions are\n",
      "  y0 y1 energy num_oc. is_sat. is_fea.\n",
      "0  0  1   -3.0       3 arra...    True\n",
      "1  1  0   -2.0       5 arra...    True\n",
      "2  0  0    0.0       1 arra...    True\n",
      "['INTEGER', 3 rows, 9 samples, 2 variables]\n"
     ]
    }
   ],
   "source": [
    "final_sols = sampleset.filter(lambda s: s.is_feasible)\n",
    "final_sols = final_sols.aggregate()\n",
    "print(\"The final solutions are\")\n",
    "print(final_sols)"
   ]
  }
 ],
 "metadata": {
  "kernelspec": {
   "display_name": "base",
   "language": "python",
   "name": "python3"
  },
  "language_info": {
   "codemirror_mode": {
    "name": "ipython",
    "version": 3
   },
   "file_extension": ".py",
   "mimetype": "text/x-python",
   "name": "python",
   "nbconvert_exporter": "python",
   "pygments_lexer": "ipython3",
   "version": "3.11.4"
  },
  "orig_nbformat": 4
 },
 "nbformat": 4,
 "nbformat_minor": 2
}
