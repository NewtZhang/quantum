{
 "cells": [
  {
   "cell_type": "markdown",
   "metadata": {},
   "source": [
    "## 2 The Tools of the Trade in Quantum Computing\n",
    "\n",
    "we use packege **\"qiskit\"**\n",
    "\n",
    ">In Qiskit, circuits are represented as objects of the QuantumCircuit class\n",
    "\n",
    "For example, we can run **\"QuantumCircuit(n, m)\"**, which means we have n qubits and m classical bits (classical bits are used to store the results of measurements)\n",
    "\n",
    "Qubits and classical bits in Qiskit are grouped in quantum and classical registers. By default, when you create a circuit QuantumCircuit(n, m), Qiskit groups your qubits in a quantum register q and your bits in a classical register c.\n",
    "\n",
    "But we can also create our own registers:"
   ]
  },
  {
   "cell_type": "code",
   "execution_count": 2,
   "metadata": {},
   "outputs": [
    {
     "data": {
      "text/html": [
       "<pre style=\"word-wrap: normal;white-space: pre;background: #fff0;line-height: 1.1;font-family: &quot;Courier New&quot;,Courier,monospace\">             \n",
       "     qrg1_0: \n",
       "             \n",
       "     qrg1_1: \n",
       "             \n",
       "       qrg2: \n",
       "             \n",
       "oldschool: 1/\n",
       "             </pre>"
      ],
      "text/plain": [
       "             \n",
       "     qrg1_0: \n",
       "             \n",
       "     qrg1_1: \n",
       "             \n",
       "       qrg2: \n",
       "             \n",
       "oldschool: 1/\n",
       "             "
      ]
     },
     "execution_count": 2,
     "metadata": {},
     "output_type": "execute_result"
    }
   ],
   "source": [
    "from qiskit import *\n",
    "\n",
    "qreg1 = QuantumRegister(size = 2, name = \"qrg1\")\n",
    "qreg2 = QuantumRegister(1, \"qrg2\")\n",
    "creg = ClassicalRegister(1, \"oldschool\")\n",
    "\n",
    "qc = QuantumCircuit(qreg1, creg, qreg2)\n",
    "qc.draw()"
   ]
  },
  {
   "cell_type": "markdown",
   "metadata": {},
   "source": [
    "#### Quantum gates\n",
    "\n",
    "All the qubits will be initialized to a state $\\Ket{0}$\n",
    "\n",
    ">As is often the case in Python, quantum bits in a circuit are 0-indexed\n",
    "\n",
    "The following are the Qiskit methods for applying some of the most common one-qubit\n",
    "gates on a qubit q0:\n",
    "\n",
    "- **X, Y, Z** Pauli gates: x(q0), y(q0), z(q0)\n",
    "\n",
    "- **H** Hadamard gate: h(q0)\n",
    "\n",
    "- $R_X$, $R_Y$, $R_Z$ rotation gates: rx($\\theta$, q0), ry($\\theta$, q0), rz($\\theta$, q0)\n",
    "\n",
    "- $U(\\theta,\\phi,\\lambda)$ universal one-qubit gate: u($\\theta$,$\\phi$,$\\lambda$, q0)\n",
    "\n",
    "If q0 represents the control qubit and qt the target qubit, we could apply the following gates:\n",
    "\n",
    "- **CX, CY, CZ, CH** a controlled X,Y,X,H gate: cx(q0, qt), cy(q0, qt), cz(q0, qt), ch(q0, qt)\n",
    "\n",
    "- **CRX, CRY, CRZ** a controlled rotation gate: crx($\\theta$, q0, qt), cry($\\theta$, q0, qt), crz($\\theta$, q0, qt)\n"
   ]
  },
  {
   "cell_type": "code",
   "execution_count": 3,
   "metadata": {},
   "outputs": [
    {
     "data": {
      "image/png": "[encoded data removed]",
      "text/plain": [
       "<Figure size 370.906x200.667 with 1 Axes>"
      ]
     },
     "execution_count": 3,
     "metadata": {},
     "output_type": "execute_result"
    }
   ],
   "source": [
    "import numpy as np\n",
    "\n",
    "qc = QuantumCircuit(2) # Initialise the circuit.\n",
    "\n",
    "# We can now apply the gates sequentially.\n",
    "qc.x(0)\n",
    "qc.rx(np.pi/4, 1)\n",
    "qc.cx(0, 1)\n",
    "qc.u(np.pi/3, 0, np.pi, 0)\n",
    "\n",
    "qc.draw(\"mpl\")   "
   ]
  }
 ],
 "metadata": {
  "kernelspec": {
   "display_name": "base",
   "language": "python",
   "name": "python3"
  },
  "language_info": {
   "codemirror_mode": {
    "name": "ipython",
    "version": 3
   },
   "file_extension": ".py",
   "mimetype": "text/x-python",
   "name": "python",
   "nbconvert_exporter": "python",
   "pygments_lexer": "ipython3",
   "version": "3.11.4"
  },
  "orig_nbformat": 4
 },
 "nbformat": 4,
 "nbformat_minor": 2
}
