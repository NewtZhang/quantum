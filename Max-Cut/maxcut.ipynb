{
 "cells": [
  {
   "cell_type": "code",
   "execution_count": 1,
   "metadata": {},
   "outputs": [
    {
     "name": "stdout",
     "output_type": "stream",
     "text": [
      "最大割集： (1, 3)\n",
      "最大割值： 4.0\n"
     ]
    },
    {
     "name": "stderr",
     "output_type": "stream",
     "text": [
      "C:\\Users\\Newt\\AppData\\Local\\Temp\\ipykernel_14308\\2542940655.py:12: FutureWarning: adjacency_matrix will return a scipy.sparse array instead of a matrix in Networkx 3.0.\n",
      "  A = nx.adjacency_matrix(G)\n"
     ]
    }
   ],
   "source": [
    "import networkx as nx\n",
    "import numpy as np\n",
    "import itertools\n",
    "from scipy.sparse import csr_matrix\n",
    "\n",
    "# 创建一个无向图\n",
    "G = nx.Graph()\n",
    "G.add_nodes_from([1, 2, 3, 4, 5])\n",
    "G.add_edges_from([(1, 2), (2, 3), (3, 4), (4, 5)])\n",
    "\n",
    "# 构建邻接矩阵\n",
    "A = nx.adjacency_matrix(G)\n",
    "n = A.shape[0]\n",
    "\n",
    "# 将邻接矩阵转换为稀疏矩阵\n",
    "A = csr_matrix(A)\n",
    "\n",
    "# 定义目标函数\n",
    "def objective_function(x):\n",
    "    return x.dot(A.dot(1 - x))\n",
    "\n",
    "# 枚举所有可能的割集\n",
    "max_cut_value = 0\n",
    "max_cut = None\n",
    "for i in range(1, n // 2 + 1):\n",
    "    for subset in itertools.combinations(range(n), i):\n",
    "        x = np.zeros(n)\n",
    "        x[list(subset)] = 1\n",
    "        cut_value = objective_function(x)\n",
    "        if cut_value > max_cut_value:\n",
    "            max_cut_value = cut_value\n",
    "            max_cut = subset\n",
    "\n",
    "print(\"最大割集：\", max_cut)\n",
    "print(\"最大割值：\", max_cut_value)"
   ]
  },
  {
   "cell_type": "code",
   "execution_count": 4,
   "metadata": {},
   "outputs": [
    {
     "ename": "NameError",
     "evalue": "name 'path' is not defined",
     "output_type": "error",
     "traceback": [
      "\u001b[1;31m---------------------------------------------------------------------------\u001b[0m",
      "\u001b[1;31mNameError\u001b[0m                                 Traceback (most recent call last)",
      "\u001b[1;32md:\\Learn\\coding\\quantum\\Max-Cut\\maxcut.ipynb 单元格 2\u001b[0m line \u001b[0;36m7\n\u001b[0;32m     <a href='vscode-notebook-cell:/d%3A/Learn/coding/quantum/Max-Cut/maxcut.ipynb#W1sZmlsZQ%3D%3D?line=73'>74</a>\u001b[0m source \u001b[39m=\u001b[39m \u001b[39m0\u001b[39m\n\u001b[0;32m     <a href='vscode-notebook-cell:/d%3A/Learn/coding/quantum/Max-Cut/maxcut.ipynb#W1sZmlsZQ%3D%3D?line=74'>75</a>\u001b[0m sink \u001b[39m=\u001b[39m \u001b[39m4\u001b[39m\n\u001b[1;32m---> <a href='vscode-notebook-cell:/d%3A/Learn/coding/quantum/Max-Cut/maxcut.ipynb#W1sZmlsZQ%3D%3D?line=75'>76</a>\u001b[0m \u001b[39mprint\u001b[39m(\u001b[39m\"\u001b[39m\u001b[39m最大割为：\u001b[39m\u001b[39m\"\u001b[39m, max_cut(graph, source, sink))\n",
      "\u001b[1;32md:\\Learn\\coding\\quantum\\Max-Cut\\maxcut.ipynb 单元格 2\u001b[0m line \u001b[0;36m5\n\u001b[0;32m     <a href='vscode-notebook-cell:/d%3A/Learn/coding/quantum/Max-Cut/maxcut.ipynb#W1sZmlsZQ%3D%3D?line=52'>53</a>\u001b[0m \u001b[39mdef\u001b[39;00m \u001b[39mmax_cut\u001b[39m(graph, source, sink):\n\u001b[1;32m---> <a href='vscode-notebook-cell:/d%3A/Learn/coding/quantum/Max-Cut/maxcut.ipynb#W1sZmlsZQ%3D%3D?line=53'>54</a>\u001b[0m     max_flow \u001b[39m=\u001b[39m ford_fulkerson(graph, source, sink)\n\u001b[0;32m     <a href='vscode-notebook-cell:/d%3A/Learn/coding/quantum/Max-Cut/maxcut.ipynb#W1sZmlsZQ%3D%3D?line=54'>55</a>\u001b[0m     visited \u001b[39m=\u001b[39m \u001b[39mset\u001b[39m()\n\u001b[0;32m     <a href='vscode-notebook-cell:/d%3A/Learn/coding/quantum/Max-Cut/maxcut.ipynb#W1sZmlsZQ%3D%3D?line=55'>56</a>\u001b[0m     path \u001b[39m=\u001b[39m []\n",
      "\u001b[1;32md:\\Learn\\coding\\quantum\\Max-Cut\\maxcut.ipynb 单元格 2\u001b[0m line \u001b[0;36m3\n\u001b[0;32m     <a href='vscode-notebook-cell:/d%3A/Learn/coding/quantum/Max-Cut/maxcut.ipynb#W1sZmlsZQ%3D%3D?line=36'>37</a>\u001b[0m s \u001b[39m=\u001b[39m sink\n\u001b[0;32m     <a href='vscode-notebook-cell:/d%3A/Learn/coding/quantum/Max-Cut/maxcut.ipynb#W1sZmlsZQ%3D%3D?line=37'>38</a>\u001b[0m \u001b[39mwhile\u001b[39;00m s \u001b[39m!=\u001b[39m source:\n\u001b[1;32m---> <a href='vscode-notebook-cell:/d%3A/Learn/coding/quantum/Max-Cut/maxcut.ipynb#W1sZmlsZQ%3D%3D?line=38'>39</a>\u001b[0m     u \u001b[39m=\u001b[39m path\u001b[39m.\u001b[39mpop()\n\u001b[0;32m     <a href='vscode-notebook-cell:/d%3A/Learn/coding/quantum/Max-Cut/maxcut.ipynb#W1sZmlsZQ%3D%3D?line=39'>40</a>\u001b[0m     v \u001b[39m=\u001b[39m path\u001b[39m.\u001b[39mpop()\n\u001b[0;32m     <a href='vscode-notebook-cell:/d%3A/Learn/coding/quantum/Max-Cut/maxcut.ipynb#W1sZmlsZQ%3D%3D?line=40'>41</a>\u001b[0m     path_flow \u001b[39m=\u001b[39m \u001b[39mmin\u001b[39m(path_flow, residual_network[u][v])\n",
      "\u001b[1;31mNameError\u001b[0m: name 'path' is not defined"
     ]
    }
   ],
   "source": [
    "# 创建无向图\n",
    "graph = {\n",
    "    0: [1, 2],\n",
    "    1: [0, 2, 3],\n",
    "    2: [0, 1, 4],\n",
    "    3: [1, 4],\n",
    "    4: [2, 3]\n",
    "}\n",
    "\n",
    "# 初始化残余网络\n",
    "def init_residual_network(graph):\n",
    "    residual_network = {}\n",
    "    for node in graph:\n",
    "        residual_network[node] = {}\n",
    "        for neighbor in graph[node]:\n",
    "            residual_network[node][neighbor] = graph[node].count(neighbor)\n",
    "    return residual_network\n",
    "\n",
    "# 寻找增广路径\n",
    "def find_augmenting_path(residual_network, source, sink, path):\n",
    "    if source == sink:\n",
    "        return True\n",
    "    for neighbor in residual_network[source]:\n",
    "        if neighbor not in path and residual_network[source][neighbor] > 0:\n",
    "            path.append(neighbor)\n",
    "            if find_augmenting_path(residual_network, neighbor, sink, path):\n",
    "                return True\n",
    "            path.pop()\n",
    "    return False\n",
    "\n",
    "# Ford-Fulkerson算法\n",
    "def ford_fulkerson(graph, source, sink):\n",
    "    residual_network = init_residual_network(graph)\n",
    "    max_flow = 0\n",
    "    while find_augmenting_path(residual_network, source, sink, []):\n",
    "        path_flow = float('inf')\n",
    "        s = sink\n",
    "        while s != source:\n",
    "            u = path.pop()\n",
    "            v = path.pop()\n",
    "            path_flow = min(path_flow, residual_network[u][v])\n",
    "            s = u\n",
    "        max_flow += path_flow\n",
    "        v = sink\n",
    "        while v != source:\n",
    "            u = path.pop()\n",
    "            residual_network[u][v] -= path_flow\n",
    "            residual_network[v][u] += path_flow\n",
    "            v = u\n",
    "    return max_flow\n",
    "\n",
    "# 计算最大割\n",
    "def max_cut(graph, source, sink):\n",
    "    max_flow = ford_fulkerson(graph, source, sink)\n",
    "    visited = set()\n",
    "    path = []\n",
    "    dfs(graph, source, sink, visited, path)\n",
    "    return max_flow, [node for node in graph if node not in visited]\n",
    "\n",
    "# DFS遍历图\n",
    "def dfs(graph, node, sink, visited, path):\n",
    "    visited.add(node)\n",
    "    path.append(node)\n",
    "    if node == sink:\n",
    "        return True\n",
    "    for neighbor in graph[node]:\n",
    "        if neighbor not in visited and graph[node][neighbor] > 0:\n",
    "            if dfs(graph, neighbor, sink, visited, path):\n",
    "                return True\n",
    "    path.pop()\n",
    "    return False\n",
    "\n",
    "# 测试\n",
    "source = 0\n",
    "sink = 4\n",
    "print(\"最大割为：\", max_cut(graph, source, sink))\n"
   ]
  }
 ],
 "metadata": {
  "kernelspec": {
   "display_name": "base",
   "language": "python",
   "name": "python3"
  },
  "language_info": {
   "codemirror_mode": {
    "name": "ipython",
    "version": 3
   },
   "file_extension": ".py",
   "mimetype": "text/x-python",
   "name": "python",
   "nbconvert_exporter": "python",
   "pygments_lexer": "ipython3",
   "version": "3.11.4"
  }
 },
 "nbformat": 4,
 "nbformat_minor": 2
}
